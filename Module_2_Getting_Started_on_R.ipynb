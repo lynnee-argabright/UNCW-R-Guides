{
  "nbformat": 4,
  "nbformat_minor": 0,
  "metadata": {
    "colab": {
      "name": " Module 2: Getting Started on R",
      "provenance": [],
      "authorship_tag": "ABX9TyPnuXbjR7+R8hocjE9VV3sZ",
      "include_colab_link": true
    },
    "kernelspec": {
      "name": "ir",
      "display_name": "R"
    },
    "language_info": {
      "name": "R"
    }
  },
  "cells": [
    {
      "cell_type": "markdown",
      "metadata": {
        "id": "view-in-github",
        "colab_type": "text"
      },
      "source": [
        "<a href=\"https://colab.research.google.com/github/hawkenh/UNCW-R-Guides/blob/main/Module_2_Getting_Started_on_R.ipynb\" target=\"_parent\"><img src=\"https://colab.research.google.com/assets/colab-badge.svg\" alt=\"Open In Colab\"/></a>"
      ]
    },
    {
      "cell_type": "markdown",
      "source": [
        "# Module 2: Getting Started on R\n",
        "## Learning the Basics\n",
        "### Hawken Hass\n",
        "### University of North Carolina Wilmington"
      ],
      "metadata": {
        "id": "59ZhJPaGQuau"
      }
    },
    {
      "cell_type": "markdown",
      "source": [
        "## Preparing Your Work Space\n",
        "\n",
        "Welcome to the basics of R! In this document you will learn the basics of R. In this lesson you will learn:\n",
        "\n",
        "-   Setting up your R work space\n",
        "-   Installing packages\n",
        "-   Creating a data frame\n",
        "-   Importing a data file\n",
        "\n",
        "However, before this step you must install R and Rstudio. To do so click this link:\n",
        "\n",
        "<https://www.r-project.org/"
      ],
      "metadata": {
        "id": "MkglLd_pQveH"
      }
    },
    {
      "cell_type": "markdown",
      "source": [
        "# Setting Up Your R Work Space\n",
        "\n",
        "The first step to setting up your digital work space is to set your **Working Directory**. This will tell R where to save your files, plots, code, and anything else you want to save to your computer. Therefore, you will need to create a file on your computer dedicated toall of your R files.\n",
        "\n",
        "Once you create your folder you will need to set your working directory. Use the path that brings you to your specified folder. An example might look like this:\n",
        "\n",
        "    setwd(\"c:/Documents/R Stuff\")\n",
        "\n",
        "In this case the folder you made would be called \"R stuff\" and is located in your Documents file on your computer.\n",
        "\n",
        "## Installing Packages\n",
        "\n",
        "Packages are important if you want to run certain analyses on your data.To install and activate a package type the following code:"
      ],
      "metadata": {
        "id": "Y_pC88PEQx7L"
      }
    },
    {
      "cell_type": "markdown",
      "source": [
        "install.package(package.name)\n",
        "\n",
        "library(package.name)\n",
        "\n",
        "Once you have a package installed you will not have to re install it every time you open RStudio. You will however, need to activate it every time you open RStudio using the library function.\n",
        "\n",
        "## Importing Data\n",
        "\n",
        "Now that you have you work space all set up, you can now start working with your data! If you don't have an existing data set you will need to make one. You can make one in RStudio (which we will cover below), or you can make on in other data analysis software. R accepts the following file types:\n",
        "\n",
        "-   SPSS (.sav)\n",
        "-   Excel (.xlsx)\n",
        "-   SAS (.sas)\n",
        "-   Stata (.dta)\n",
        "-   Text file (.csv, .txt)\n",
        "\n",
        "In order to import your data you will need in downloaded onto your computer and to activate a package called \"Haven\". Haven allows you to read in these different data file types with code.\n",
        "```\n",
        "    library(haven)\n",
        "```\n",
        "Then type the following code:\n",
        "\n",
        "**For Excel:**\n",
        "```\n",
        "    library(readxl)\n",
        "    mydata<-read_excel(\"filename.xlsx\")\n",
        "```\n",
        "Always name your data in R. As you can see, I named the data \"mydata\" followed by an arrow and the code. Make sure the data file is in your working directory\n",
        "\n",
        "**For SPSS**\n",
        "```\n",
        "    library(haven)\n",
        "    mydata<-read.spss(\"filename.sav\")\n",
        "```\n",
        "**For SAS**\n",
        "\n",
        "    library(haven)\n",
        "    mydata<-read_sas(\"filename.sas\")\n",
        "\n",
        "**For Stata**\n",
        "```\n",
        "    library(haven)\n",
        "    mydata<-read_dta(\"filename.dta\")\n",
        "```\n",
        "**For Text**\n",
        "```\n",
        "    library(haven)\n",
        "    mydata<-read.table(\"filename.txt\")\n",
        "\n",
        "    OR\n",
        "\n",
        "    mydata<-read.csv(\"filename.csv\")\n",
        "```"
      ],
      "metadata": {
        "id": "4hD_NWpZQ1JO"
      }
    },
    {
      "cell_type": "markdown",
      "source": [
        "# Creating an Object\n",
        "\n",
        "Everything in R is an object and every object must be defined before you can include it in your functions. In R, we define objects using an arrow. For example, if we run the following code:"
      ],
      "metadata": {
        "id": "Eu41jl53Q424"
      }
    },
    {
      "cell_type": "code",
      "source": [
        "x<-20"
      ],
      "metadata": {
        "id": "U_m5o8IuQ7kT"
      },
      "execution_count": null,
      "outputs": []
    },
    {
      "cell_type": "markdown",
      "source": [
        "You will see that in your global environment x is now defined as a value, 20. If you type in \"x\" in your command center you will get the following output:"
      ],
      "metadata": {
        "id": "InbMoBMkRM3e"
      }
    },
    {
      "cell_type": "code",
      "source": [
        "x"
      ],
      "metadata": {
        "id": "BDDr4E_gRQZA"
      },
      "execution_count": null,
      "outputs": []
    },
    {
      "cell_type": "markdown",
      "source": [
        "Now you can use this variable in functions! For example:"
      ],
      "metadata": {
        "id": "m9S37WFwRW5q"
      }
    },
    {
      "cell_type": "code",
      "source": [
        "x+20"
      ],
      "metadata": {
        "id": "7rFWG0b5RX0W"
      },
      "execution_count": null,
      "outputs": []
    },
    {
      "cell_type": "markdown",
      "source": [
        "# Common Functions in R"
      ],
      "metadata": {
        "id": "Orz45bzqRej-"
      }
    },
    {
      "cell_type": "markdown",
      "source": [
        "- **<-** : Assigns a value to a variable\n",
        "- **$** : Extracts part of an object (for example a single column from a data set)\n",
        "- **#** : Allows you to add comments into script that will not be treated as code\n",
        "- **c()** : Combines objects into a vector\n",
        "- **library()** : Loads a package specificed inside parentheses\n",
        "- **setwd()** : Sets a file path for your working directory\n",
        "- **factor()** : Allows you to transform a categorical variable into a factor variable\n",
        "- **data.frame** : Creates a data frame\n",
        "- **View()** : Opens a new tab to view data as a spreadsheet\n",
        "- **print()** : Prints argument into output zone\n",
        "- **ggplot()** : Creates a base canvas for a plot object\n",
        "- **summarytools::freq()** : Creates a frequency table\n",
        "- **describe()** : Reports descriptive statistics (such as mean, median, standard deviation...)\n",
        "- **describeBy()** : Reports basic descriptive statistics organized by a grouping variable of your choice"
      ],
      "metadata": {
        "id": "xeeF6L7KRbi2"
      }
    },
    {
      "cell_type": "markdown",
      "source": [
        "# Creating a Data Frame\n",
        "## Creating a Vector\n",
        "Lets say you don't have a data file yet and you need to create one in R. No problem! First, you are going to need to create a vector of data. If you remember from the previous module, a vector is simply a column of data for whatever variable you choose. To do so, you will need to use the concatenate function. \n",
        "\n",
        "\n",
        "Note: You can make any type of data structure (matrix, array...) that we looked at in Module 1 and use it to create a data frame. \n",
        "\n",
        "Name your variable and type each data point separated by commas."
      ],
      "metadata": {
        "id": "wlUTUrwGRlPJ"
      }
    },
    {
      "cell_type": "code",
      "source": [
        "Names<-c(\"Theodore\", \"Charles\", \"Elizabeth\", \"Marcus\", \"Megan\", \"Cynthia\")"
      ],
      "metadata": {
        "id": "bnoOIt0HRnkN"
      },
      "execution_count": null,
      "outputs": []
    },
    {
      "cell_type": "markdown",
      "source": [
        "Adding a \"c\" before the parentheses combines all data points into one vector\n",
        "\n",
        "Lets say you need to denote on your data file if a participant is male or female. Since this variable is categorical, you will need to create a vector of factor variables. Factor variables categorize the data as numerical values so it can still be used in statistical analysis. Let's say males are \"1\" and females are \"2\"."
      ],
      "metadata": {
        "id": "ICEUNvZURwHK"
      }
    },
    {
      "cell_type": "markdown",
      "source": [
        "## Factoring a Variable"
      ],
      "metadata": {
        "id": "8rhAyIXpR09n"
      }
    },
    {
      "cell_type": "code",
      "source": [
        "Gender<-c(1,1,2,1,2,2)"
      ],
      "metadata": {
        "id": "hFYQB97TR8Yt"
      },
      "execution_count": null,
      "outputs": []
    },
    {
      "cell_type": "markdown",
      "source": [
        "Make sure that the order of the number matches with the order of your other vectors. If you have a lot of data points you can use this code:"
      ],
      "metadata": {
        "id": "g-Y4ytQaSOPv"
      }
    },
    {
      "cell_type": "code",
      "source": [
        "Gender_2<-c(rep(1:2, each=3))"
      ],
      "metadata": {
        "id": "9WR7l0xiSRE4"
      },
      "execution_count": null,
      "outputs": []
    },
    {
      "cell_type": "markdown",
      "source": [
        "This will repeat 1 and 2 three times each. Just put \"each = n\" with n being the number of times you want to repeat the data point. "
      ],
      "metadata": {
        "id": "qiDaRSWgSUb-"
      }
    },
    {
      "cell_type": "code",
      "source": [
        "print(Gender_2)"
      ],
      "metadata": {
        "id": "226Wyal-SXDS"
      },
      "execution_count": null,
      "outputs": []
    },
    {
      "cell_type": "markdown",
      "source": [
        "Now we need to factor the data so that R can run statistical analyses and plot the data."
      ],
      "metadata": {
        "id": "ro5CCECPScF_"
      }
    },
    {
      "cell_type": "code",
      "source": [
        "Gender<-factor(Gender, levels = c(1:2), labels=c(\"Male\", \"Female\"))"
      ],
      "metadata": {
        "id": "XS963oEESfb4"
      },
      "execution_count": null,
      "outputs": []
    },
    {
      "cell_type": "markdown",
      "source": [
        "Now if you view this vector you can see that it has two levels: Male and Female."
      ],
      "metadata": {
        "id": "bBQKrYz8SjWg"
      }
    },
    {
      "cell_type": "code",
      "source": [
        "print(Gender)"
      ],
      "metadata": {
        "id": "5QCmNsKcSkB0"
      },
      "execution_count": null,
      "outputs": []
    },
    {
      "cell_type": "markdown",
      "source": [
        "This function is particularly helpful to show group assignment. For instance \"1\" could be factored as \"Control Group\" and \"2\" could be factored as \"Experimental Group\"."
      ],
      "metadata": {
        "id": "8dyLpUl7Sr1-"
      }
    },
    {
      "cell_type": "markdown",
      "source": [
        "Now let's put in one more vector."
      ],
      "metadata": {
        "id": "sT8cAEs_S0Qu"
      }
    },
    {
      "cell_type": "code",
      "source": [
        "scores<-c(19,20,4,17,2,5)"
      ],
      "metadata": {
        "id": "ts5GO4x9S14A"
      },
      "execution_count": null,
      "outputs": []
    },
    {
      "cell_type": "markdown",
      "source": [
        "Once you input all of your vectors, or variables, you can combine them all into one data set using the \"data.frame\" function. Type each vector name in the order in which you want it to show up in the data file. Make sure you name your data!"
      ],
      "metadata": {
        "id": "1ZxrjcauS9f_"
      }
    },
    {
      "cell_type": "code",
      "source": [
        "Data_Example<-data.frame(Names, Gender, scores)"
      ],
      "metadata": {
        "id": "p2S1kLDQTAG2"
      },
      "execution_count": null,
      "outputs": []
    },
    {
      "cell_type": "markdown",
      "source": [
        "As you can see, this put all of our variables into one file."
      ],
      "metadata": {
        "id": "ZFr8e17lTDbD"
      }
    },
    {
      "cell_type": "code",
      "source": [
        "print(Data_Example)"
      ],
      "metadata": {
        "id": "kUNFIlDITH0g"
      },
      "execution_count": null,
      "outputs": []
    },
    {
      "cell_type": "markdown",
      "source": [
        "Now you can start running analyses on your data!"
      ],
      "metadata": {
        "id": "1OMO5yx-TUjv"
      }
    },
    {
      "cell_type": "markdown",
      "source": [
        "# Practice\n",
        "Make your own data frame using at least one factor variable and run the code to see the output."
      ],
      "metadata": {
        "id": "Vg6lz4FgTXot"
      }
    },
    {
      "cell_type": "code",
      "source": [
        "Variable 1<-c()\n",
        "Variable 2<-c()\n",
        "Factor_Variable<-c()\n",
        "Factor_Variable<-factor()\n",
        "Data_Name_Practice<-data.frame()"
      ],
      "metadata": {
        "id": "h9czdvu7TeTY"
      },
      "execution_count": null,
      "outputs": []
    },
    {
      "cell_type": "markdown",
      "source": [
        "Print your data frame!"
      ],
      "metadata": {
        "id": "KX7ZONAuTnQa"
      }
    },
    {
      "cell_type": "code",
      "source": [
        "print(Data_Name_Practice)"
      ],
      "metadata": {
        "id": "uvGljqRsTpX5"
      },
      "execution_count": null,
      "outputs": []
    }
  ]
}