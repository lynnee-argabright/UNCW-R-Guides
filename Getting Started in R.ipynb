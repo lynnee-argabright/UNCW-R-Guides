{
 "cells": [
  {
   "cell_type": "markdown",
   "id": "15302587",
   "metadata": {},
   "source": [
    "# Module 2: Getting Started on R\n",
    "## Learning the Basics\n",
    "### Hawken Hass\n",
    "### University of North Carolina Wilmington"
   ]
  },
  {
   "cell_type": "markdown",
   "id": "3eac3153",
   "metadata": {},
   "source": [
    "## Preparing Your Work Space\n",
    "\n",
    "Welcome to the basics of R! In this document you will learn the basics of R. In this lesson you will learn:\n",
    "\n",
    "-   Setting up your R work space\n",
    "-   Installing packages\n",
    "-   Creating a data frame\n",
    "-   Importing a data file\n",
    "\n",
    "However, before this step you must install R and Rstudio. To do so click this link:\n",
    "\n",
    "<https://www.r-project.org/"
   ]
  },
  {
   "cell_type": "markdown",
   "id": "dd6c0db5",
   "metadata": {},
   "source": [
    "# Setting Up Your R Work Space\n",
    "\n",
    "The first step to setting up your digital work space is to set your **Working Directory**. This will tell R where to save your files, plots, code, and anything else you want to save to your computer. Therefore, you will need to create a file on your computer dedicated toall of your R files.\n",
    "\n",
    "Once you create your folder you will need to set your working directory. Use the path that brings you to your specified folder. An example might look like this:\n",
    "\n",
    "    setwd(\"c:/Documents/R Stuff\")\n",
    "\n",
    "In this case the folder you made would be called \"R stuff\" and is located in your Documents file on your computer.\n",
    "\n",
    "## Installing Packages\n",
    "\n",
    "Packages are important if you want to run certain analyses on your data.To install and activate a package type the following code:\n"
   ]
  },
  {
   "cell_type": "markdown",
   "id": "dca25627",
   "metadata": {},
   "source": [
    "install.package(package.name)\n",
    "\n",
    "library(package.name)\n",
    "\n",
    "Once you have a package installed you will not have to re install it every time you open RStudio. You will however, need to activate it every time you open RStudio using the library function.\n",
    "\n",
    "## Importing Data\n",
    "\n",
    "Now that you have you work space all set up, you can now start working with your data! If you don't have an existing data set you will need to make one. You can make one in RStudio (which we will cover below), or you can make on in other data analysis software. R accepts the following file types:\n",
    "\n",
    "-   SPSS (.sav)\n",
    "-   Excel (.xlsx)\n",
    "-   SAS (.sas)\n",
    "-   Stata (.dta)\n",
    "-   Text file (.csv, .txt)\n",
    "\n",
    "In order to import your data you will need in downloaded onto your computer and to activate a package called \"Haven\". Haven allows you to read in these different data file types with code.\n",
    "```\n",
    "    library(haven)\n",
    "```\n",
    "Then type the following code:\n",
    "\n",
    "**For Excel:**\n",
    "```\n",
    "    library(readxl)\n",
    "    mydata<-read_excel(\"filename.xlsx\")\n",
    "```\n",
    "Always name your data in R. As you can see, I named the data \"mydata\" followed by an arrow and the code. Make sure the data file is in your working directory\n",
    "\n",
    "**For SPSS**\n",
    "```\n",
    "    library(haven)\n",
    "    mydata<-read.spss(\"filename.sav\")\n",
    "```\n",
    "**For SAS**\n",
    "\n",
    "        library(haven)\n",
    "        mydata<-read_sas(\"filename.sas\")\n",
    "\n",
    "**For Stata**\n",
    "```\n",
    "    library(haven)\n",
    "    mydata<-read_dta(\"filename.dta\")\n",
    "```\n",
    "**For Text**\n",
    "```\n",
    "    library(haven)\n",
    "    mydata<-read.table(\"filename.txt\")\n",
    "\n",
    "    OR\n",
    "\n",
    "    mydata<-read.csv(\"filename.csv\")\n",
    "```"
   ]
  },
  {
   "cell_type": "markdown",
   "id": "a9b3f67e",
   "metadata": {},
   "source": [
    "# Creating an Object\n",
    "\n",
    "Everything in R is an object and every object must be defined before you can include it in your functions. In R, we define objects using an arrow. For example, if we run the following code:"
   ]
  },
  {
   "cell_type": "code",
   "execution_count": 2,
   "id": "b7e99237",
   "metadata": {},
   "outputs": [],
   "source": [
    "x<-20"
   ]
  },
  {
   "cell_type": "markdown",
   "id": "b17493fc",
   "metadata": {},
   "source": [
    "You will see that in your global environment x is now defined as a value, 20. If you type in \"x\" in your command center you will get the following output:"
   ]
  },
  {
   "cell_type": "code",
   "execution_count": 4,
   "id": "829128d3",
   "metadata": {},
   "outputs": [
    {
     "data": {
      "text/html": [
       "20"
      ],
      "text/latex": [
       "20"
      ],
      "text/markdown": [
       "20"
      ],
      "text/plain": [
       "[1] 20"
      ]
     },
     "metadata": {},
     "output_type": "display_data"
    }
   ],
   "source": [
    "x"
   ]
  },
  {
   "cell_type": "markdown",
   "id": "96025502",
   "metadata": {},
   "source": [
    "Now you can use this variable in functions! For example:"
   ]
  },
  {
   "cell_type": "code",
   "execution_count": 5,
   "id": "bf4bef2b",
   "metadata": {
    "scrolled": true
   },
   "outputs": [
    {
     "data": {
      "text/html": [
       "40"
      ],
      "text/latex": [
       "40"
      ],
      "text/markdown": [
       "40"
      ],
      "text/plain": [
       "[1] 40"
      ]
     },
     "metadata": {},
     "output_type": "display_data"
    }
   ],
   "source": [
    "x+20"
   ]
  },
  {
   "cell_type": "markdown",
   "id": "8135eb36",
   "metadata": {},
   "source": [
    "# Common Functions in R"
   ]
  },
  {
   "cell_type": "markdown",
   "id": "e7d2942f",
   "metadata": {},
   "source": [
    "- **<-** : Assigns a value to a variable\n",
    "- **$** : Extracts part of an object (for example a single column from a data set)\n",
    "- **#** : Allows you to add comments into script that will not be treated as code\n",
    "- **c()** : Combines objects into a vector\n",
    "- **library()** : Loads a package specificed inside parentheses\n",
    "- **setwd()** : Sets a file path for your working directory\n",
    "- **factor()** : Allows you to transform a categorical variable into a factor variable\n",
    "- **data.frame** : Creates a data frame\n",
    "- **View()** : Opens a new tab to view data as a spreadsheet\n",
    "- **print()** : Prints argument into output zone\n",
    "- **ggplot()** : Creates a base canvas for a plot object\n",
    "- **summarytools::freq()** : Creates a frequency table\n",
    "- **describe()** : Reports descriptive statistics (such as mean, median, standard deviation...)\n",
    "- **describeBy()** : Reports basic descriptive statistics organized by a grouping variable of your choice"
   ]
  },
  {
   "cell_type": "markdown",
   "id": "13050e29",
   "metadata": {},
   "source": [
    "# Creating a Data Frame\n",
    "## Creating a Vector\n",
    "Lets say you don't have a data file yet and you need to create one in R. No problem! First, you are going to need to create a vector of data. If you remember from the previous module, a vector is simply a column of data for whatever variable you choose. To do so, you will need to use the concatenate function. \n",
    "\n",
    "\n",
    "Note: You can make any type of data structure (matrix, array...) that we looked at in Module 1 and use it to create a data frame. \n",
    "\n",
    "Name your variable and type each data point separated by commas."
   ]
  },
  {
   "cell_type": "code",
   "execution_count": 6,
   "id": "807b23d1",
   "metadata": {},
   "outputs": [],
   "source": [
    "Names<-c(\"Theodore\", \"Charles\", \"Elizabeth\", \"Marcus\", \"Megan\", \"Cynthia\")"
   ]
  },
  {
   "cell_type": "markdown",
   "id": "8352ae66",
   "metadata": {},
   "source": [
    "Adding a \"c\" before the parentheses combines all data points into one vector\n",
    "\n",
    "Lets say you need to denote on your data file if a participant is male or female. Since this variable is categorical, you will need to create a vector of factor variables. Factor variables categorize the data as numerical values so it can still be used in statistical analysis. Let's say males are \"1\" and females are \"2\"."
   ]
  },
  {
   "cell_type": "markdown",
   "id": "eb714fb5",
   "metadata": {},
   "source": [
    "## Factoring a Variable"
   ]
  },
  {
   "cell_type": "code",
   "execution_count": 7,
   "id": "e8dc2a3b",
   "metadata": {},
   "outputs": [],
   "source": [
    "Gender<-c(1,1,2,1,2,2)"
   ]
  },
  {
   "cell_type": "markdown",
   "id": "1d73c6d5",
   "metadata": {},
   "source": [
    "Make sure that the order of the number matches with the order of your other vectors. If you have a lot of data points you can use this code:"
   ]
  },
  {
   "cell_type": "code",
   "execution_count": 8,
   "id": "b6d0c387",
   "metadata": {},
   "outputs": [],
   "source": [
    "Gender_2<-c(rep(1:2, each=3))"
   ]
  },
  {
   "cell_type": "markdown",
   "id": "b81ab2fb",
   "metadata": {},
   "source": [
    "This will repeat 1 and 2 three times each. Just put \"each = n\" with n being the number of times you want to repeat the data point. "
   ]
  },
  {
   "cell_type": "code",
   "execution_count": 9,
   "id": "6484abcf",
   "metadata": {},
   "outputs": [
    {
     "name": "stdout",
     "output_type": "stream",
     "text": [
      "[1] 1 1 1 2 2 2\n"
     ]
    }
   ],
   "source": [
    "print(Gender_2)"
   ]
  },
  {
   "cell_type": "markdown",
   "id": "76772f4c",
   "metadata": {},
   "source": [
    "Now we need to factor the data so that R can run statistical analyses and plot the data.\n"
   ]
  },
  {
   "cell_type": "code",
   "execution_count": 10,
   "id": "c21dc13f",
   "metadata": {},
   "outputs": [],
   "source": [
    "Gender<-factor(Gender, levels = c(1:2), labels=c(\"Male\", \"Female\"))"
   ]
  },
  {
   "cell_type": "markdown",
   "id": "93a7551c",
   "metadata": {},
   "source": [
    "Now if you view this vector you can see that it has two levels: Male and Female."
   ]
  },
  {
   "cell_type": "code",
   "execution_count": 11,
   "id": "138fb660",
   "metadata": {},
   "outputs": [
    {
     "name": "stdout",
     "output_type": "stream",
     "text": [
      "[1] Male   Male   Female Male   Female Female\n",
      "Levels: Male Female\n"
     ]
    }
   ],
   "source": [
    "print(Gender)"
   ]
  },
  {
   "cell_type": "markdown",
   "id": "f5ebf035",
   "metadata": {},
   "source": [
    "This function is particularly helpful to show group assignment. For instance \"1\" could be factored as \"Control Group\" and \"2\" could be factored as \"Experimental Group\"."
   ]
  },
  {
   "cell_type": "markdown",
   "id": "a44d8945",
   "metadata": {},
   "source": [
    "Now let's put in one more vector."
   ]
  },
  {
   "cell_type": "code",
   "execution_count": 12,
   "id": "0c4bd3b0",
   "metadata": {},
   "outputs": [],
   "source": [
    "scores<-c(19,20,4,17,2,5)"
   ]
  },
  {
   "cell_type": "markdown",
   "id": "c470fbdb",
   "metadata": {},
   "source": [
    "Once you input all of your vectors, or variables, you can combine them all into one data set using the \"data.frame\" function. Type each vector name in the order in which you want it to show up in the data file. Make sure you name your data!"
   ]
  },
  {
   "cell_type": "code",
   "execution_count": 13,
   "id": "caaa072f",
   "metadata": {},
   "outputs": [],
   "source": [
    "Data_Example<-data.frame(Names, Gender, scores)"
   ]
  },
  {
   "cell_type": "markdown",
   "id": "657b0551",
   "metadata": {},
   "source": [
    "As you can see, this put all of our variables into one file."
   ]
  },
  {
   "cell_type": "code",
   "execution_count": 14,
   "id": "05c2dd4e",
   "metadata": {},
   "outputs": [
    {
     "name": "stdout",
     "output_type": "stream",
     "text": [
      "      Names Gender scores\n",
      "1  Theodore   Male     19\n",
      "2   Charles   Male     20\n",
      "3 Elizabeth Female      4\n",
      "4    Marcus   Male     17\n",
      "5     Megan Female      2\n",
      "6   Cynthia Female      5\n"
     ]
    }
   ],
   "source": [
    "print(Data_Example)"
   ]
  },
  {
   "cell_type": "markdown",
   "id": "ed4eadd4",
   "metadata": {},
   "source": [
    "Now you can start running analyses on your data!"
   ]
  },
  {
   "cell_type": "markdown",
   "id": "62ee5153",
   "metadata": {},
   "source": [
    "# Practice\n",
    "Make your own data frame using at least one factor variable and run the code to see the output."
   ]
  },
  {
   "cell_type": "code",
   "execution_count": 16,
   "id": "6e44d246",
   "metadata": {},
   "outputs": [],
   "source": [
    "Variable_1<-c()\n",
    "Variable_2<-c()\n",
    "Factor_Variable<-c()\n",
    "Factor_Variable<-factor()\n",
    "Data_Name_Practice<-data.frame()"
   ]
  }
 ],
 "metadata": {
  "kernelspec": {
   "display_name": "R",
   "language": "R",
   "name": "ir"
  },
  "language_info": {
   "codemirror_mode": "r",
   "file_extension": ".r",
   "mimetype": "text/x-r-source",
   "name": "R",
   "pygments_lexer": "r",
   "version": "3.6.1"
  }
 },
 "nbformat": 4,
 "nbformat_minor": 5
}
